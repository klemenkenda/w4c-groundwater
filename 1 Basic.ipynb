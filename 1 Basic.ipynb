{
 "cells": [
  {
   "cell_type": "markdown",
   "metadata": {},
   "source": [
    "# Water4Cities Infrastructure to support Data Mining\n",
    "### W4C Webinar #1\n",
    "Klemen Kenda, Matej Senožetnik, JSI @ SingularLogic, Nov 24th 2017"
   ]
  },
  {
   "cell_type": "markdown",
   "metadata": {},
   "source": [
    "## Importing libraries"
   ]
  },
  {
   "cell_type": "code",
   "execution_count": null,
   "metadata": {
    "collapsed": true
   },
   "outputs": [],
   "source": [
    "# loading data\n",
    "import urllib.request\n",
    "\n",
    "# data manipulation\n",
    "import pandas as pd\n",
    "import numpy as np\n",
    "\n",
    "# plotting\n",
    "import matplotlib.pyplot as plt\n",
    "# enable interactive plot in the notebook\n",
    "%matplotlib notebook\n",
    "\n",
    "# machine learning methods\n",
    "from sklearn import linear_model\n",
    "from sklearn.tree import DecisionTreeRegressor\n",
    "from sklearn.svm import SVR\n",
    "from sklearn.ensemble import RandomForestRegressor"
   ]
  },
  {
   "cell_type": "markdown",
   "metadata": {},
   "source": [
    "## Loading and formatting the data"
   ]
  },
  {
   "cell_type": "code",
   "execution_count": null,
   "metadata": {},
   "outputs": [],
   "source": [
    "# API URL to underground water levels in Ljubljana aquifer\n",
    "# station with id 85076 is 1279238400Lj - RTV (0261) Ljubljansko polje\n",
    "url = \"http://atena.ijs.si:8080/CollectorAPIServer/undergroundWater?station_id=85069\";\n",
    "jsonStr = urllib.request.urlopen(url).read().decode('utf-8');\n",
    "df = pd.read_json(jsonStr);\n",
    "\n",
    "# converting unix timestamp to date-time object\n",
    "df['Date'] = df['LastUpdatedEpoch'];\n",
    "df['Date'] = pd.to_datetime(df['Date'], unit='ms');\n",
    "\n",
    "# remove unneccessary fields\n",
    "df.drop('LastUpdated', 1, inplace=True);\n",
    "df.drop('LastUpdatedEpoch', 1, inplace=True);\n",
    "df.drop('Region_id', 1, inplace=True);\n",
    "df.drop('Region_name', 1, inplace=True);\n",
    "df.drop('Station_id', 1, inplace=True);\n",
    "df.drop('Station_name', 1, inplace=True);\n",
    "df.drop('SystemCodeNumber', 1, inplace=True);"
   ]
  },
  {
   "cell_type": "markdown",
   "metadata": {},
   "source": [
    "## Checking loaded data"
   ]
  },
  {
   "cell_type": "code",
   "execution_count": null,
   "metadata": {},
   "outputs": [],
   "source": [
    "# string/tabular view\n",
    "# len(jsonStr), jsonStr[0:100] and df[0:5]\n",
    "df[0:5]"
   ]
  },
  {
   "cell_type": "code",
   "execution_count": null,
   "metadata": {},
   "outputs": [],
   "source": [
    "# plotting the data\n",
    "# format date axis\n",
    "fig, ax = plt.subplots(); fig.autofmt_xdate();\n",
    "# plot\n",
    "ax.plot(df['Date'], df['Value']);\n",
    "# show plot\n",
    "plt.show();"
   ]
  },
  {
   "cell_type": "markdown",
   "metadata": {},
   "source": [
    "## Loading some additional data for modeling (weather)"
   ]
  },
  {
   "cell_type": "code",
   "execution_count": null,
   "metadata": {},
   "outputs": [],
   "source": [
    "# API URL to underground water levels in Ljubljana aquifer\n",
    "# station with id 85076 is 1279238400Lj - RTV (0261) Ljubljansko polje\n",
    "url = \"http://atena.ijs.si:8080/CollectorAPIServer/weather?time_from=31/12/2014&time_to=01/01/2017&city=Ljubljana\";\n",
    "jsonStr = urllib.request.urlopen(url).read().decode('utf-8');\n",
    "dw = pd.read_json(jsonStr);\n",
    "\n",
    "# converting unix timestamp to date-time object\n",
    "dw['Date'] = dw['LastUpdatedEpoch'];\n",
    "dw['Date'] = pd.to_datetime(dw['Date'] + 2 * 60 * 60 * 1000, unit='ms').dt.round(\"1d\");\n",
    "dw.set_index('Date', inplace=True);\n",
    "\n",
    "dw.drop('City', 1, inplace=True);\n",
    "dw.drop('LastUpdated', 1, inplace=True);\n",
    "dw.drop('LastUpdatedEpoch', 1, inplace=True);\n",
    "dw.drop('Sensor_id', 1, inplace=True);\n",
    "dw.drop('Sensor_name', 1, inplace=True);\n",
    "dw.drop('SystemCodeNumber', 1, inplace=True);\n"
   ]
  },
  {
   "cell_type": "code",
   "execution_count": null,
   "metadata": {},
   "outputs": [],
   "source": [
    "dw[0:5]"
   ]
  },
  {
   "cell_type": "markdown",
   "metadata": {},
   "source": [
    "## Data Fusion"
   ]
  },
  {
   "cell_type": "code",
   "execution_count": null,
   "metadata": {},
   "outputs": [],
   "source": [
    "# make date a key in our data\n",
    "df.set_index('Date', inplace=True);"
   ]
  },
  {
   "cell_type": "code",
   "execution_count": null,
   "metadata": {},
   "outputs": [],
   "source": [
    "df[0:5]"
   ]
  },
  {
   "cell_type": "code",
   "execution_count": null,
   "metadata": {
    "collapsed": true
   },
   "outputs": [],
   "source": [
    "# generate fused dataset\n",
    "ds = pd.concat([df, dw], axis=1);"
   ]
  },
  {
   "cell_type": "code",
   "execution_count": null,
   "metadata": {},
   "outputs": [],
   "source": [
    "# let's check it\n",
    "ds[0:10]"
   ]
  },
  {
   "cell_type": "code",
   "execution_count": null,
   "metadata": {},
   "outputs": [],
   "source": [
    "plt.figure(4)\n",
    "plt.plot(dw['Percipitation'])\n",
    "plt.plot(dw['Snow_blanket'])"
   ]
  },
  {
   "cell_type": "markdown",
   "metadata": {},
   "source": [
    "## Exploratory data analysis\n",
    "This is a very big deal for successful data mining; we will not go deep into this. We will just do some very basic visualizations."
   ]
  },
  {
   "cell_type": "code",
   "execution_count": null,
   "metadata": {},
   "outputs": [],
   "source": [
    "plt.figure(2);\n",
    "plt.subplot(211);\n",
    "plt.plot(ds.index, ds['Value'], 'r');\n",
    "plt.subplot(212);\n",
    "plt.plot(ds.index, ds['Percipitation'], 'b');\n",
    "plt.show()"
   ]
  },
  {
   "cell_type": "markdown",
   "metadata": {},
   "source": [
    "## Let the fun begin!\n",
    "# Data-driven modeling\n",
    "How well can we describe groundwater level with tha available features?"
   ]
  },
  {
   "cell_type": "code",
   "execution_count": null,
   "metadata": {
    "collapsed": true
   },
   "outputs": [],
   "source": [
    "# Let's prepare the data, we need a vector y with our groundwater level \n",
    "# and a matrix X of corresponding features\n",
    "y = ds['Value'];\n",
    "X = ds.iloc[:, 1:9];"
   ]
  },
  {
   "cell_type": "code",
   "execution_count": null,
   "metadata": {},
   "outputs": [],
   "source": [
    "# linear regression\n",
    "from sklearn.model_selection import cross_val_predict\n",
    "from sklearn.model_selection import cross_val_score\n",
    "from sklearn import linear_model\n",
    "from sklearn.ensemble import GradientBoostingRegressor\n",
    "from sklearn.metrics import mean_squared_error\n",
    "from sklearn.metrics import r2_score\n",
    "\n",
    "\n",
    "#regressor = linear_model.LinearRegression();\n",
    "#regressor = DecisionTreeRegressor();\n",
    "#regressor = SVR();\n",
    "#regressor = RandomForestRegressor();\n",
    "regressor = GradientBoostingRegressor();\n",
    "\n",
    "# cross_val_predict returns an array of the same size as `y` where each entry\n",
    "# is a prediction obtained by cross validation:\n",
    "predicted = cross_val_predict(regressor, X, y, cv = 10);"
   ]
  },
  {
   "cell_type": "code",
   "execution_count": null,
   "metadata": {},
   "outputs": [],
   "source": [
    "# plot modeling results\n",
    "fig, ax = plt.subplots();\n",
    "ax.plot(y.index, predicted, 'r');\n",
    "ax.plot(y, 'b');\n",
    "plt.show();"
   ]
  },
  {
   "cell_type": "code",
   "execution_count": null,
   "metadata": {},
   "outputs": [],
   "source": [
    "# evaluate model\n",
    "mse = mean_squared_error(y, predicted)\n",
    "r2 = r2_score(y, predicted);\n",
    "(mse, r2)\n"
   ]
  },
  {
   "cell_type": "code",
   "execution_count": null,
   "metadata": {},
   "outputs": [],
   "source": [
    "# scatterplot\n",
    "fig, ax = plt.subplots();\n",
    "ax.scatter(y, predicted, s=2);\n",
    "ax.plot([y.min(), y.max()], [y.min(), y.max()], 'k--', lw=1);\n",
    "ax.set_xlabel('Measured');\n",
    "ax.set_ylabel('Predicted');\n",
    "plt.show();"
   ]
  },
  {
   "cell_type": "markdown",
   "metadata": {},
   "source": [
    "## Are we looking at a good target variable?"
   ]
  },
  {
   "cell_type": "code",
   "execution_count": null,
   "metadata": {
    "collapsed": true
   },
   "outputs": [],
   "source": [
    "# make new X and y\n",
    "y = ds['Value'][:]\n",
    "X = ds.iloc[1:, 1:10];"
   ]
  },
  {
   "cell_type": "code",
   "execution_count": null,
   "metadata": {},
   "outputs": [],
   "source": [
    "y = ds['Value'] - ds['Value'].shift(1)\n",
    "y = y[1:]"
   ]
  },
  {
   "cell_type": "markdown",
   "metadata": {},
   "source": [
    "## How about proper feature engineering?\n",
    "Domain knowledge can help!\n",
    "\n",
    "See data fusion / stream modeling demo!"
   ]
  },
  {
   "cell_type": "code",
   "execution_count": null,
   "metadata": {
    "collapsed": true
   },
   "outputs": [],
   "source": []
  }
 ],
 "metadata": {
  "kernelspec": {
   "display_name": "Python 3",
   "language": "python",
   "name": "python3"
  },
  "language_info": {
   "codemirror_mode": {
    "name": "ipython",
    "version": 3
   },
   "file_extension": ".py",
   "mimetype": "text/x-python",
   "name": "python",
   "nbconvert_exporter": "python",
   "pygments_lexer": "ipython3",
   "version": "3.6.1"
  }
 },
 "nbformat": 4,
 "nbformat_minor": 2
}
