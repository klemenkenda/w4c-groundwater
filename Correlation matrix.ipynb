{
 "cells": [
  {
   "cell_type": "code",
   "execution_count": 2,
   "metadata": {},
   "outputs": [],
   "source": [
    "# correlation matrix\n",
    "corr = [[ 1.        ,  0.47803908,  0.99676948,  0.83436684,  0.81987028,\n",
    "         0.97615278,  0.82366787,  0.86584337,  0.93391215,  0.33902714,\n",
    "         0.9730481 ,  0.7808286 ],\n",
    "       [ 0.47803908,  1.        ,  0.49418756,  0.75311109,  0.80951785,\n",
    "         0.58180794,  0.70025074,  0.73176947,  0.65838997,  0.57641362,\n",
    "         0.57880956,  0.50461992],\n",
    "       [ 0.99676948,  0.49418756,  1.        ,  0.84687082,  0.83354074,\n",
    "         0.98070778,  0.83644724,  0.87798528,  0.94193508,  0.36376329,\n",
    "         0.97811185,  0.79302012],\n",
    "       [ 0.83436684,  0.75311109,  0.84687082,  1.        ,  0.99344474,\n",
    "         0.92605109,  0.9889261 ,  0.99629611,  0.97217913,  0.67377294,\n",
    "         0.92950862,  0.76692761],\n",
    "       [ 0.81987028,  0.80951785,  0.83354074,  0.99344474,  1.        ,\n",
    "         0.91255185,  0.97749791,  0.99100918,  0.96183651,  0.68107053,\n",
    "         0.91478225,  0.76281049],\n",
    "       [ 0.97615278,  0.58180794,  0.98070778,  0.92605109,  0.91255185,\n",
    "         1.        ,  0.92067049,  0.94880049,  0.98760362,  0.47549326,\n",
    "         0.99948325,  0.82846162],\n",
    "       [ 0.82366787,  0.70025074,  0.83644724,  0.9889261 ,  0.97749791,\n",
    "         0.92067049,  1.        ,  0.98914706,  0.96685155,  0.69878559,\n",
    "         0.92569849,  0.77734868],\n",
    "       [ 0.86584337,  0.73176947,  0.87798528,  0.99629611,  0.99100918,\n",
    "         0.94880049,  0.98914706,  1.        ,  0.98610699,  0.65197301,\n",
    "         0.95163634,  0.78932556],\n",
    "       [ 0.93391215,  0.65838997,  0.94193508,  0.97217913,  0.96183651,\n",
    "         0.98760362,  0.96685155,  0.98610699,  1.        ,  0.56668892,\n",
    "         0.98887321,  0.8193139 ],\n",
    "       [ 0.33902714,  0.57641362,  0.36376329,  0.67377294,  0.68107053,\n",
    "         0.47549326,  0.69878559,  0.65197301,  0.56668892,  1.        ,\n",
    "         0.48317061,  0.40689601],\n",
    "       [ 0.9730481 ,  0.57880956,  0.97811185,  0.92950862,  0.91478225,\n",
    "         0.99948325,  0.92569849,  0.95163634,  0.98887321,  0.48317061,\n",
    "         1.        ,  0.82482102],\n",
    "       [ 0.7808286 ,  0.50461992,  0.79302012,  0.76692761,  0.76281049,\n",
    "         0.82846162,  0.77734868,  0.78932556,  0.8193139 ,  0.40689601,\n",
    "         0.82482102,  1.        ]]"
   ]
  },
  {
   "cell_type": "code",
   "execution_count": 5,
   "metadata": {
    "collapsed": true
   },
   "outputs": [],
   "source": [
    "import datetime\n",
    "import os.path\n",
    "import pickle\n",
    "import numpy as np\n",
    "import matplotlib.pyplot as plt\n",
    "from data_cleaning.ml_utils import available_indices, extract_data, get_sliding_data\n",
    "from data_cleaning.utils import *\n",
    "from data_cleaning.predict import *\n",
    "%matplotlib inline\n",
    "%reload_ext autoreload\n",
    "%autoreload 2"
   ]
  },
  {
   "cell_type": "code",
   "execution_count": 37,
   "metadata": {},
   "outputs": [
    {
     "data": {
      "text/plain": [
       "<matplotlib.image.AxesImage at 0x787f927048>"
      ]
     },
     "execution_count": 37,
     "metadata": {},
     "output_type": "execute_result"
    },
    {
     "data": {
      "image/png": "[encoded data removed]",
      "text/plain": [
       "<matplotlib.figure.Figure at 0x7876568b00>"
      ]
     },
     "metadata": {},
     "output_type": "display_data"
    }
   ],
   "source": [
    "# plot modeling results\n",
    "plt.imshow(corr)\n"
   ]
  },
  {
   "cell_type": "code",
   "execution_count": 38,
   "metadata": {},
   "outputs": [
    {
     "data": {
      "image/png": "[encoded data removed]",
      "text/plain": [
       "<matplotlib.figure.Figure at 0x7876762b00>"
      ]
     },
     "metadata": {},
     "output_type": "display_data"
    }
   ],
   "source": [
    "from scipy.cluster.hierarchy import dendrogram, linkage\n",
    "Z = linkage(corr, 'single', 'correlation')\n",
    "d = dendrogram(Z)"
   ]
  },
  {
   "cell_type": "code",
   "execution_count": 48,
   "metadata": {},
   "outputs": [],
   "source": [
    "mat = np.zeros((12, 12))\n",
    "matf = [];\n",
    "# build matrix\n",
    "for i in range(0, 12):\n",
    "    jj = 0;\n",
    "    for j in d['leaves']:\n",
    "        mat[i][jj] = corr[i][j]\n",
    "        jj = jj + 1;\n",
    "for i in d['leaves']:\n",
    "    matf.append(mat[i])"
   ]
  },
  {
   "cell_type": "code",
   "execution_count": 64,
   "metadata": {
    "collapsed": true
   },
   "outputs": [],
   "source": [
    "labels = [\"80076\", \"85050\", \"85063\", \"85040\", \"85064\", \"85065\", \"85004\", \"85030\", \"85054\", \"85075\", \"85012\", \"85073\"]"
   ]
  },
  {
   "cell_type": "code",
   "execution_count": 78,
   "metadata": {},
   "outputs": [
    {
     "data": {
      "image/png": "[encoded data removed]",
      "text/plain": [
       "<matplotlib.figure.Figure at 0x78032e6898>"
      ]
     },
     "metadata": {},
     "output_type": "display_data"
    }
   ],
   "source": [
    "fig, ax = plt.subplots(figsize=(9, 6))\n",
    "im = ax.imshow(matf)\n",
    "ax.figure.colorbar(im);\n",
    "ax.set_yticks(np.arange(len(labels)))\n",
    "ax.set_yticklabels(labels)\n",
    "ax.set_xticks(np.arange(0))\n",
    "plt.ylabel('Station name')\n",
    "plt.savefig('report2/correlation-matrix.pdf')\n"
   ]
  },
  {
   "cell_type": "code",
   "execution_count": 43,
   "metadata": {},
   "outputs": [
    {
     "data": {
      "text/plain": [
       "[11, 4, 6, 3, 7, 8, 0, 2, 5, 10, 1, 9]"
      ]
     },
     "execution_count": 43,
     "metadata": {},
     "output_type": "execute_result"
    }
   ],
   "source": [
    "d['leaves']"
   ]
  },
  {
   "cell_type": "code",
   "execution_count": null,
   "metadata": {
    "collapsed": true
   },
   "outputs": [],
   "source": []
  }
 ],
 "metadata": {
  "kernelspec": {
   "display_name": "Python 3",
   "language": "python",
   "name": "python3"
  },
  "language_info": {
   "codemirror_mode": {
    "name": "ipython",
    "version": 3
   },
   "file_extension": ".py",
   "mimetype": "text/x-python",
   "name": "python",
   "nbconvert_exporter": "python",
   "pygments_lexer": "ipython3",
   "version": "3.6.1"
  }
 },
 "nbformat": 4,
 "nbformat_minor": 2
}
